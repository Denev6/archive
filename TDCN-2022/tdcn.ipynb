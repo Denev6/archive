{
  "cells": [
    {
      "cell_type": "markdown",
      "metadata": {
        "id": "view-in-github",
        "colab_type": "text"
      },
      "source": [
        "<a href=\"https://colab.research.google.com/github/Denev6/CapStone/blob/main/tdcn.ipynb\" target=\"_parent\"><img src=\"https://colab.research.google.com/assets/colab-badge.svg\" alt=\"Open In Colab\"/></a>"
      ]
    },
    {
      "cell_type": "markdown",
      "source": [
        "# TDCN 이미지 예측 모델 구현"
      ],
      "metadata": {
        "collapsed": false,
        "id": "w78x_jwKe64c"
      }
    },
    {
      "cell_type": "code",
      "execution_count": null,
      "outputs": [],
      "source": [
        "import os\n",
        "import gc\n",
        "import warnings\n",
        "from google.colab import drive\n",
        "\n",
        "import numpy as np \n",
        "import pandas as pd\n",
        "from tqdm.auto import tqdm, trange\n",
        "import torch\n",
        "from torch import nn\n",
        "import torch.optim as optim\n",
        "import torch.nn.functional as F\n",
        "from torch.utils.data import Dataset, DataLoader\n",
        "from sklearn.metrics import (\n",
        "    f1_score,\n",
        "    accuracy_score,\n",
        "    recall_score,\n",
        "    precision_score,\n",
        "    confusion_matrix,\n",
        ")"
      ],
      "metadata": {
        "id": "lL-HkjWte64e"
      }
    },
    {
      "cell_type": "code",
      "source": [
        "drive.mount(\"/content/drive\")\n",
        "warnings.simplefilter(\"ignore\")\n",
        "\n",
        "def clear():\n",
        "    gc.collect()\n",
        "    torch.cuda.empty_cache()\n",
        "\n",
        "def join_path(*args):\n",
        "    return os.path.join(\"/content/drive/MyDrive/Capstone\", *args)\n",
        "\n",
        "# 사용한 데이터 파일\n",
        "TRAIN_CSV = [\n",
        "    join_path(\"data\", csv)\n",
        "    for csv in [\"feat_xtrain.csv\", \"pose_xtrain.csv\", \"ytrain.csv\"]\n",
        "]\n",
        "TEST_CSV = [\n",
        "    join_path(\"data\", csv) for csv in [\"feat_xtest.csv\", \"pose_xtest.csv\", \"ytest.csv\"]\n",
        "]\n",
        "\n",
        "device = \"cuda\" if torch.cuda.is_available() else \"cpu\"\n",
        "BATCH_SIZE = 8\n",
        "EPOCHS = 100\n",
        "LEARNING_RATE = 5e-4\n",
        "SMOOTHING = 0.0\n",
        "MODEL_PATH = join_path(\"tdcn.pth\")"
      ],
      "metadata": {
        "id": "t2jmj2H9kULo",
        "colab": {
          "base_uri": "https://localhost:8080/"
        },
        "outputId": "dd1378ab-6ba7-4a38-9a3b-f89562f006b1"
      },
      "execution_count": null,
      "outputs": [
        {
          "output_type": "stream",
          "name": "stdout",
          "text": [
            "Mounted at /content/drive\n"
          ]
        }
      ]
    },
    {
      "cell_type": "code",
      "source": [
        "class EarlyStopping(object):\n",
        "    def __init__(self, patience=2, save_path=\"model.pth\", eps=1e-6):\n",
        "        self._min_loss = np.inf\n",
        "        self._patience = patience\n",
        "        self._path = save_path\n",
        "        self._eps = eps\n",
        "        self.__counter = 0\n",
        "\n",
        "    def should_stop(self, model, loss):\n",
        "        if loss < self._min_loss:\n",
        "            self._min_loss = loss\n",
        "            self.__counter = 0\n",
        "            torch.save(model.state_dict(), self._path)\n",
        "        elif loss > self._min_loss + self._eps:\n",
        "            self.__counter += 1\n",
        "            if self.__counter >= self._patience:\n",
        "                return True\n",
        "        return False\n",
        "   \n",
        "    def load(self, model):\n",
        "        model.load_state_dict(torch.load(self._path))\n",
        "        return model\n",
        "    \n",
        "    @property\n",
        "    def counter(self):\n",
        "        return self.__counter"
      ],
      "metadata": {
        "id": "7gZaxhAa26Sk"
      },
      "execution_count": null,
      "outputs": []
    },
    {
      "cell_type": "markdown",
      "source": [
        "# Dataset"
      ],
      "metadata": {
        "collapsed": false,
        "id": "_HWRXs1Oe64f"
      }
    },
    {
      "cell_type": "code",
      "source": [
        "class CustomDataset(Dataset):\n",
        "    \"\"\"데이터 처리\"\"\"\n",
        "    def __init__(self, x1_file, x2_file, y_file, mode=None):\n",
        "        x1_df = pd.read_csv(x1_file)  # landmark data\n",
        "        x2_df = pd.read_csv(x2_file)  # pose data\n",
        "        y_df = pd.read_csv(y_file)\n",
        "\n",
        "        x1 = x1_df.values\n",
        "        x2 = x2_df.values\n",
        "\n",
        "        if mode == \"train\":\n",
        "            # 데이터 전처리 문제로 인덱스가 포함되어 있음\n",
        "            y = y_df.iloc[:, 1].values\n",
        "        else:\n",
        "            y = y_df.iloc[:, 0].values\n",
        "\n",
        "        self.x1_data = torch.FloatTensor(x1)\n",
        "        self.x2_data = torch.FloatTensor(x2)\n",
        "        self.y_data = torch.IntTensor(y)\n",
        "\n",
        "    def __len__(self):\n",
        "        return len(self.y_data)\n",
        "\n",
        "    def __getitem__(self, index):\n",
        "        return (\n",
        "            self.x1_data[index * 5000 : (index + 1) * 5000],\n",
        "            self.x2_data[index * 5000 : (index + 1) * 5000],\n",
        "        ), self.y_data[index]"
      ],
      "metadata": {
        "id": "ubXk37S_P3lN"
      },
      "execution_count": null,
      "outputs": []
    },
    {
      "cell_type": "code",
      "source": [
        "# 데이터셋\n",
        "training_data = CustomDataset(*TRAIN_CSV, mode=\"train\")\n",
        "test_data = CustomDataset(*TEST_CSV)\n",
        "\n",
        "train_dataloader = DataLoader(training_data, batch_size=BATCH_SIZE, shuffle=True)\n",
        "test_dataloader = DataLoader(test_data, batch_size=BATCH_SIZE)"
      ],
      "metadata": {
        "id": "BDcQPq_7d41e"
      },
      "execution_count": null,
      "outputs": []
    },
    {
      "cell_type": "markdown",
      "source": [
        "# Dilated Conv Block"
      ],
      "metadata": {
        "collapsed": false,
        "id": "S9UN2GeEe64g"
      }
    },
    {
      "cell_type": "code",
      "execution_count": null,
      "outputs": [],
      "source": [
        "class DilatedConvBlock(nn.Module):\n",
        "    \"\"\"모델 내의 DCN Block\"\"\"\n",
        "    def __init__(self, has_BN=False, batch_size=8):\n",
        "        super(DilatedConvBlock, self).__init__()\n",
        "        self._c = 1\n",
        "        self._has_BN = has_BN\n",
        "\n",
        "        self.dilated_conv1 = self.dilated_conv(1)\n",
        "        self.dilated_conv2 = self.dilated_conv(2)\n",
        "        self.dilated_conv3 = self.dilated_conv(4)\n",
        "        self.conv1d = nn.Conv2d(self._c, self._c, kernel_size=(1, 1))\n",
        "        self.BN = nn.BatchNorm2d(self._c, affine=True)\n",
        "\n",
        "    def dilated_conv(self, d):\n",
        "        return nn.Conv2d(\n",
        "            self._c,\n",
        "            self._c,\n",
        "            kernel_size=(3, 3),\n",
        "            stride=1,\n",
        "            padding=\"same\",\n",
        "            dilation=d,\n",
        "            bias=True,\n",
        "            padding_mode=\"zeros\",\n",
        "        )\n",
        "\n",
        "    def forward(self, x):\n",
        "        x_1d = self.conv1d(x)\n",
        "\n",
        "        # DCN with d=1\n",
        "        x_2d_1 = self.dilated_conv1(x)\n",
        "        x_2d_2 = self.dilated_conv1(x)\n",
        "        x_2d = x_2d_1 + x_2d_2\n",
        "        x_2d = F.elu(x_2d)\n",
        "\n",
        "        # DCN with d=2\n",
        "        x_2d_1 = self.dilated_conv2(x_2d)\n",
        "        x_2d_2 = self.dilated_conv2(x_2d)\n",
        "        x_2d = x_2d_1 + x_2d_2\n",
        "        x_2d = F.elu(x_2d)\n",
        "\n",
        "        # DCN with d=4\n",
        "        x_2d_1 = self.dilated_conv3(x_2d)\n",
        "        x_2d_2 = self.dilated_conv3(x_2d)\n",
        "        x_2d = x_2d_1 + x_2d_2\n",
        "        x_2d = F.elu(x_2d)\n",
        "\n",
        "        x = x_1d + x_2d\n",
        "\n",
        "        if self._has_BN:\n",
        "            x = self.BN(x)\n",
        "        return x"
      ],
      "metadata": {
        "id": "lrxuDgMLe64g"
      }
    },
    {
      "cell_type": "markdown",
      "source": [
        "# TDCN + FWA + Prediction"
      ],
      "metadata": {
        "collapsed": false,
        "id": "8PhfhSGUe64i"
      }
    },
    {
      "cell_type": "code",
      "execution_count": null,
      "outputs": [],
      "source": [
        "class PredictionModel(nn.Module):\n",
        "    \"\"\"모델 전체 구조\"\"\"\n",
        "    def __init__(self, batch_size=8):\n",
        "        super(PredictionModel, self).__init__()\n",
        "\n",
        "        self.TDCN = nn.Sequential(\n",
        "            DilatedConvBlock(has_BN=True, batch_size=BATCH_SIZE),\n",
        "            nn.MaxPool2d(kernel_size=(2, 1), stride=None),\n",
        "            DilatedConvBlock(has_BN=True, batch_size=BATCH_SIZE),\n",
        "            nn.MaxPool2d(kernel_size=(2, 1), stride=None),\n",
        "            DilatedConvBlock(has_BN=True, batch_size=BATCH_SIZE),\n",
        "            nn.MaxPool2d(kernel_size=(2, 1), stride=None),\n",
        "            DilatedConvBlock(has_BN=True, batch_size=BATCH_SIZE),\n",
        "            nn.MaxPool2d(kernel_size=(2, 1), stride=None),\n",
        "            DilatedConvBlock(has_BN=False),\n",
        "        )\n",
        "        self.attention = nn.Sequential(\n",
        "            nn.Linear(142, 142),\n",
        "            nn.ReLU(inplace=True),\n",
        "            nn.Linear(142, 142),\n",
        "            nn.Sigmoid(),\n",
        "        )\n",
        "        self.classifier = nn.Sequential(\n",
        "            nn.Linear(142, 64), nn.Linear(64, 64), nn.Linear(64, 2), nn.Softmax(dim=3)\n",
        "        )\n",
        "\n",
        "    def global_average_pooling(self, x):\n",
        "        return torch.mean(x, dim=2)\n",
        "\n",
        "    def FWA(self, x1, x2):\n",
        "        x = torch.concat((x1, x2), dim=3)\n",
        "        x_ = self.global_average_pooling(x)\n",
        "        x_ = self.attention(x_)\n",
        "        x_ = torch.unsqueeze(x_, 2)\n",
        "        x = torch.mul(x, x_)\n",
        "\n",
        "        return x\n",
        "\n",
        "    def forward(self, x_landmark, x_pose):\n",
        "        x_landmark = self.TDCN(x_landmark)\n",
        "        x_pose = self.TDCN(x_pose)\n",
        "        x = self.FWA(x_landmark, x_pose)\n",
        "        score = self.classifier(x)\n",
        "        score = score.mean(dim=2)\n",
        "        return score"
      ],
      "metadata": {
        "id": "9C1_4PqOe64j"
      }
    },
    {
      "cell_type": "markdown",
      "source": [
        "# Train"
      ],
      "metadata": {
        "collapsed": false,
        "id": "fcQgUbHde64k"
      }
    },
    {
      "cell_type": "code",
      "source": [
        "loss_fn = nn.CrossEntropyLoss(label_smoothing=SMOOTHING)\n",
        "model = PredictionModel(BATCH_SIZE)\n",
        "optimizer = optim.SGD(model.parameters(), lr=LEARNING_RATE, momentum=0.9)"
      ],
      "metadata": {
        "id": "Ktr4hlZ7P57R"
      },
      "execution_count": null,
      "outputs": []
    },
    {
      "cell_type": "code",
      "source": [
        "# 모델 전체 구조\n",
        "model.eval()"
      ],
      "metadata": {
        "colab": {
          "base_uri": "https://localhost:8080/"
        },
        "id": "su1qgsjIhN16",
        "outputId": "b03573e1-5f09-4d72-87f3-998b446738d0"
      },
      "execution_count": null,
      "outputs": [
        {
          "output_type": "execute_result",
          "data": {
            "text/plain": [
              "PredictionModel(\n",
              "  (TDCN): Sequential(\n",
              "    (0): DilatedConvBlock(\n",
              "      (dilated_conv1): Conv2d(1, 1, kernel_size=(3, 3), stride=(1, 1), padding=same)\n",
              "      (dilated_conv2): Conv2d(1, 1, kernel_size=(3, 3), stride=(1, 1), padding=same, dilation=(2, 2))\n",
              "      (dilated_conv3): Conv2d(1, 1, kernel_size=(3, 3), stride=(1, 1), padding=same, dilation=(4, 4))\n",
              "      (conv1d): Conv2d(1, 1, kernel_size=(1, 1), stride=(1, 1))\n",
              "      (BN): BatchNorm2d(1, eps=1e-05, momentum=0.1, affine=True, track_running_stats=True)\n",
              "    )\n",
              "    (1): MaxPool2d(kernel_size=(2, 1), stride=(2, 1), padding=0, dilation=1, ceil_mode=False)\n",
              "    (2): DilatedConvBlock(\n",
              "      (dilated_conv1): Conv2d(1, 1, kernel_size=(3, 3), stride=(1, 1), padding=same)\n",
              "      (dilated_conv2): Conv2d(1, 1, kernel_size=(3, 3), stride=(1, 1), padding=same, dilation=(2, 2))\n",
              "      (dilated_conv3): Conv2d(1, 1, kernel_size=(3, 3), stride=(1, 1), padding=same, dilation=(4, 4))\n",
              "      (conv1d): Conv2d(1, 1, kernel_size=(1, 1), stride=(1, 1))\n",
              "      (BN): BatchNorm2d(1, eps=1e-05, momentum=0.1, affine=True, track_running_stats=True)\n",
              "    )\n",
              "    (3): MaxPool2d(kernel_size=(2, 1), stride=(2, 1), padding=0, dilation=1, ceil_mode=False)\n",
              "    (4): DilatedConvBlock(\n",
              "      (dilated_conv1): Conv2d(1, 1, kernel_size=(3, 3), stride=(1, 1), padding=same)\n",
              "      (dilated_conv2): Conv2d(1, 1, kernel_size=(3, 3), stride=(1, 1), padding=same, dilation=(2, 2))\n",
              "      (dilated_conv3): Conv2d(1, 1, kernel_size=(3, 3), stride=(1, 1), padding=same, dilation=(4, 4))\n",
              "      (conv1d): Conv2d(1, 1, kernel_size=(1, 1), stride=(1, 1))\n",
              "      (BN): BatchNorm2d(1, eps=1e-05, momentum=0.1, affine=True, track_running_stats=True)\n",
              "    )\n",
              "    (5): MaxPool2d(kernel_size=(2, 1), stride=(2, 1), padding=0, dilation=1, ceil_mode=False)\n",
              "    (6): DilatedConvBlock(\n",
              "      (dilated_conv1): Conv2d(1, 1, kernel_size=(3, 3), stride=(1, 1), padding=same)\n",
              "      (dilated_conv2): Conv2d(1, 1, kernel_size=(3, 3), stride=(1, 1), padding=same, dilation=(2, 2))\n",
              "      (dilated_conv3): Conv2d(1, 1, kernel_size=(3, 3), stride=(1, 1), padding=same, dilation=(4, 4))\n",
              "      (conv1d): Conv2d(1, 1, kernel_size=(1, 1), stride=(1, 1))\n",
              "      (BN): BatchNorm2d(1, eps=1e-05, momentum=0.1, affine=True, track_running_stats=True)\n",
              "    )\n",
              "    (7): MaxPool2d(kernel_size=(2, 1), stride=(2, 1), padding=0, dilation=1, ceil_mode=False)\n",
              "    (8): DilatedConvBlock(\n",
              "      (dilated_conv1): Conv2d(1, 1, kernel_size=(3, 3), stride=(1, 1), padding=same)\n",
              "      (dilated_conv2): Conv2d(1, 1, kernel_size=(3, 3), stride=(1, 1), padding=same, dilation=(2, 2))\n",
              "      (dilated_conv3): Conv2d(1, 1, kernel_size=(3, 3), stride=(1, 1), padding=same, dilation=(4, 4))\n",
              "      (conv1d): Conv2d(1, 1, kernel_size=(1, 1), stride=(1, 1))\n",
              "      (BN): BatchNorm2d(1, eps=1e-05, momentum=0.1, affine=True, track_running_stats=True)\n",
              "    )\n",
              "  )\n",
              "  (attention): Sequential(\n",
              "    (0): Linear(in_features=142, out_features=142, bias=True)\n",
              "    (1): ReLU(inplace=True)\n",
              "    (2): Linear(in_features=142, out_features=142, bias=True)\n",
              "    (3): Sigmoid()\n",
              "  )\n",
              "  (classifier): Sequential(\n",
              "    (0): Linear(in_features=142, out_features=64, bias=True)\n",
              "    (1): Linear(in_features=64, out_features=64, bias=True)\n",
              "    (2): Linear(in_features=64, out_features=2, bias=True)\n",
              "    (3): Softmax(dim=3)\n",
              "  )\n",
              ")"
            ]
          },
          "metadata": {},
          "execution_count": 9
        }
      ]
    },
    {
      "cell_type": "code",
      "execution_count": null,
      "outputs": [],
      "source": [
        "def train(train_loader, test_loader, model, loss_fn, optimizer):\n",
        "    model.to(device) \n",
        "    loss_fn.to(device)\n",
        "    model.zero_grad()\n",
        "\n",
        "    num_batches = len(train_loader)\n",
        "    early_stopper = EarlyStopping(patience=3, save_path=MODEL_PATH)\n",
        "\n",
        "    epoch_progress = trange(1, EPOCHS + 1)\n",
        "    tqdm.write(\"\\nEpoch | Train Loss | Test Loss\")\n",
        "    tqdm.write(\"-\" * 30)\n",
        "    \n",
        "    for epoch in epoch_progress:\n",
        "        model.train()\n",
        "        train_loss = 0\n",
        "        for (x1, x2), label in train_loader:\n",
        "            x1 = x1.to(device)\n",
        "            x2 = x2.to(device)\n",
        "            label = label.to(device)\n",
        "            \n",
        "            pred = model(\n",
        "                x1.unsqueeze(0).permute(1, 0, 2, 3), x2.unsqueeze(0).permute(1, 0, 2, 3)\n",
        "            )\n",
        "            loss = loss_fn(pred.squeeze(1), label.long())\n",
        "            train_loss += loss.item()\n",
        "            test_loss = test(test_loader, model, loss_fn)\n",
        "            \n",
        "            optimizer.zero_grad()\n",
        "            loss.backward()\n",
        "            optimizer.step()\n",
        "\n",
        "        train_loss /= num_batches\n",
        "    \n",
        "        tqdm.write(f\"{epoch:5} | {train_loss:10.5f} | {test_loss:9.5f}\")\n",
        "        \n",
        "        if early_stopper.should_stop(model, test_loss):\n",
        "            tqdm.write(f\"--EarlyStopping: [Epoch: {epoch - early_stopper.counter}]\")\n",
        "            break\n",
        "\n",
        "    model = early_stopper.load(model)\n",
        "    return model\n",
        "\n",
        "\n",
        "def test(test_loader, model, loss_fn, return_metrics=False):\n",
        "    model.eval()\n",
        "    num_batches = len(test_loader)\n",
        "    test_loss = 0\n",
        "    true_labels = list()\n",
        "    pred_values = list()\n",
        "\n",
        "    with torch.no_grad():\n",
        "        for (x1, x2), label in test_loader:\n",
        "            x1 = x1.to(device)\n",
        "            x2 = x2.to(device)\n",
        "            label = label.to(device)\n",
        "\n",
        "            pred = model(\n",
        "                x1.unsqueeze(0).permute(1, 0, 2, 3), x2.unsqueeze(0).permute(1, 0, 2, 3)\n",
        "            )\n",
        "            pred = pred.squeeze()\n",
        "\n",
        "            test_loss += loss_fn(pred.squeeze(1), label.long()).item()\n",
        "\n",
        "            if return_metrics:\n",
        "                true_labels += label.detach().cpu().numpy().tolist()\n",
        "                pred_values += pred.argmax(-1).detach().cpu().numpy().tolist()\n",
        "\n",
        "    if not return_metrics:\n",
        "        # 학습 과정에서는 Loss 값만 확인합니다.\n",
        "        test_loss /= num_batches\n",
        "        return test_loss\n",
        "\n",
        "    else:\n",
        "        # 학습이 종료되고 성능 평가 지표를 확인합니다.\n",
        "        accuracy = accuracy_score(true_labels, pred_values)\n",
        "        f1 = f1_score(true_labels, pred_values)\n",
        "        f1_macro = f1_score(true_labels, pred_values, average=\"macro\")\n",
        "        recall = recall_score(true_labels, pred_values)\n",
        "        precision = precision_score(true_labels, pred_values)\n",
        "        matrix = confusion_matrix(true_labels, pred_values).ravel()\n",
        "\n",
        "        return {\n",
        "            \"accuracy\": accuracy,\n",
        "            \"f1\": f1,\n",
        "            \"f1-macro\": f1_macro,\n",
        "            \"recall\": recall,\n",
        "            \"precision\": precision,\n",
        "            \"loss\": test_loss,\n",
        "            \"matrix\": matrix,\n",
        "        }"
      ],
      "metadata": {
        "id": "-QrKKtm7e64l"
      }
    },
    {
      "cell_type": "code",
      "execution_count": null,
      "outputs": [
        {
          "output_type": "display_data",
          "data": {
            "text/plain": [
              "  0%|          | 0/100 [00:00<?, ?it/s]"
            ],
            "application/vnd.jupyter.widget-view+json": {
              "version_major": 2,
              "version_minor": 0,
              "model_id": "8e0c3a72849242f9bc5ed0b4687b8985"
            }
          },
          "metadata": {}
        },
        {
          "output_type": "stream",
          "name": "stdout",
          "text": [
            "\n",
            "Epoch | Train Loss | Test Loss\n",
            "------------------------------\n",
            "    1 |    0.66002 |   0.63160\n",
            "    2 |    0.63464 |   0.61037\n",
            "    3 |    0.63082 |   0.60695\n",
            "    4 |    0.62774 |   0.60519\n",
            "    5 |    0.62728 |   0.60491\n",
            "    6 |    0.62717 |   0.60461\n",
            "    7 |    0.62912 |   0.60431\n",
            "    8 |    0.62891 |   0.60449\n",
            "    9 |    0.62722 |   0.60416\n",
            "   10 |    0.62907 |   0.60437\n",
            "   11 |    0.62986 |   0.60405\n",
            "   12 |    0.62934 |   0.60450\n",
            "   13 |    0.62856 |   0.60421\n",
            "   14 |    0.62966 |   0.60422\n",
            "--EarlyStopping: [Epoch: 11]\n"
          ]
        }
      ],
      "source": [
        "# 모델 학습\n",
        "model = train(train_dataloader, test_dataloader, model, loss_fn, optimizer)"
      ],
      "metadata": {
        "id": "XcGPq1v8e64m",
        "colab": {
          "base_uri": "https://localhost:8080/",
          "height": 361,
          "referenced_widgets": [
            "8e0c3a72849242f9bc5ed0b4687b8985",
            "82d7edd3dedd423c84c6c52f11dbbbf3",
            "250ce5c0ada84c9d8365947ef0c37679",
            "0cf928190dcf4127acc6f52d9ab5789c",
            "cdcfef00fb964b1ea184bd3c957cd0da",
            "e7318b5005264b4ca4924b26529ec236",
            "b3e129850fe84a53ad4bf5d87c57bb3a",
            "962be60024fb45a194214b2fc17b767e",
            "5f1929c761ce45aa87b9cc83acf0644c",
            "03bfb77c29e44484b1aa3c185504ef45",
            "94eef4a51f4c47a8bdce45242d10f90b"
          ]
        },
        "outputId": "fa7f63e0-403c-4437-cac9-d0b4e4e1eaed"
      }
    },
    {
      "cell_type": "code",
      "source": [
        "# 모델 저장\n",
        "torch.save(\n",
        "    {\n",
        "        \"epoch\": EPOCHS,\n",
        "        \"learning_rate\": LEARNING_RATE,\n",
        "        \"model_state\": model.state_dict(),\n",
        "        \"optimizer_state\": optimizer.state_dict(),\n",
        "    },\n",
        "    MODEL_PATH,\n",
        ")"
      ],
      "metadata": {
        "id": "-FIrKDQ2pr94"
      },
      "execution_count": null,
      "outputs": []
    },
    {
      "cell_type": "markdown",
      "source": [
        "# Evaluation"
      ],
      "metadata": {
        "collapsed": false,
        "id": "h4EhOqNae64m"
      }
    },
    {
      "cell_type": "markdown",
      "source": [
        "```\n",
        "# 저장된 모델 불러오기\n",
        "loss_fn = nn.CrossEntropyLoss()\n",
        "\n",
        "checkpoint = torch.load(join_path(\"tdcn.pth\"))\n",
        "\n",
        "model = PredictionModel(BATCH_SIZE).to(device)\n",
        "model.load_state_dict(checkpoint[\"model_state\"])\n",
        "\n",
        "# optimizer = torch.optim.SGD(model.parameters(), lr=LEARNING_RATE, momentum=0.9)\n",
        "# optimizer.load_state_dict(checkpoint[\"optimizer_state\"])\n",
        "```"
      ],
      "metadata": {
        "id": "3Nd3TaCw46X0"
      }
    },
    {
      "cell_type": "code",
      "source": [
        "clear()\n",
        "metrics = test(test_dataloader, model, loss_fn, return_metrics=True)\n",
        "\n",
        "print(f\"Accuracy:  {metrics['accuracy']:.3f}\")\n",
        "print(f\"F1-score:  {metrics['f1']:.3f}\")\n",
        "print(f\"F1-macro:  {metrics['f1-macro']:.3f}\")\n",
        "print(f\"Recall:    {metrics['recall']:.3f}\")\n",
        "print(f\"Precision: {metrics['precision']:.3f}\")\n",
        "\n",
        "print(\"-\" * 30)\n",
        "tn, fp, fn, tp = metrics[\"matrix\"]\n",
        "print(f\"TN: {tn}\")\n",
        "print(f\"FP: {fp}\")\n",
        "print(f\"FN: {fn}\")\n",
        "print(f\"TP: {tp}\")"
      ],
      "metadata": {
        "id": "lWRsevGPqWxG",
        "colab": {
          "base_uri": "https://localhost:8080/"
        },
        "outputId": "b002cd56-34d5-4245-ed90-1fe6a4295685"
      },
      "execution_count": null,
      "outputs": [
        {
          "output_type": "stream",
          "name": "stdout",
          "text": [
            "Accuracy:  0.702\n",
            "F1-score:  0.000\n",
            "F1-macro:  0.412\n",
            "Recall:    0.000\n",
            "Precision: 0.000\n",
            "------------------------------\n",
            "TN: 33\n",
            "FP: 0\n",
            "FN: 14\n",
            "TP: 0\n"
          ]
        }
      ]
    },
    {
      "cell_type": "code",
      "source": [
        "def show_probs(test_data, model, max=6):\n",
        "    dataloader = DataLoader(test_data, batch_size=1, shuffle=True)\n",
        "\n",
        "    model.eval()\n",
        "    neg_max = max // 2\n",
        "    pos_max = max - neg_max\n",
        "    pos_count = 0\n",
        "    neg_count = 0\n",
        "    with torch.no_grad():\n",
        "        for X, label in dataloader:\n",
        "            x1, x2 = X\n",
        "            x1, x2 = x1.to(device), x2.to(device)\n",
        "\n",
        "            if label.item() == 0 and pos_count < pos_max:\n",
        "                pos_count += 1\n",
        "                label = label.item()\n",
        "            elif label.item() == 1 and neg_count < neg_max:\n",
        "                neg_count += 1\n",
        "                label = label.item()\n",
        "            elif pos_count + neg_count == max:\n",
        "                break\n",
        "            else:\n",
        "                continue\n",
        "\n",
        "            pred = model(\n",
        "                x1.unsqueeze(0).permute(1, 0, 2, 3), x2.unsqueeze(0).permute(1, 0, 2, 3)\n",
        "            )\n",
        "            normal, abnormal = pred.squeeze()\n",
        "            print(f\"{label}: [{normal:.3f}  {abnormal:.3f}]\")\n",
        "\n",
        "\n",
        "# 예측된 확률: [우울증이 아닐 확률, 우울증일 확률]\n",
        "show_probs(test_data, model, 10)"
      ],
      "metadata": {
        "id": "WfTZ_iNfLojc",
        "colab": {
          "base_uri": "https://localhost:8080/"
        },
        "outputId": "b48dfa44-07d4-4c63-ad94-e9c5b0a6247e"
      },
      "execution_count": null,
      "outputs": [
        {
          "output_type": "stream",
          "name": "stdout",
          "text": [
            "0: [0.897  0.103]\n",
            "1: [0.890  0.110]\n",
            "1: [0.885  0.115]\n",
            "0: [0.897  0.103]\n",
            "0: [0.893  0.107]\n",
            "0: [0.892  0.108]\n",
            "1: [0.886  0.114]\n",
            "1: [0.886  0.114]\n",
            "1: [0.887  0.113]\n",
            "0: [0.887  0.113]\n"
          ]
        }
      ]
    }
  ],
  "metadata": {
    "kernelspec": {
      "display_name": "Python 3",
      "language": "python",
      "name": "python3"
    },
    "language_info": {
      "codemirror_mode": {
        "name": "ipython",
        "version": 2
      },
      "file_extension": ".py",
      "mimetype": "text/x-python",
      "name": "python",
      "nbconvert_exporter": "python",
      "pygments_lexer": "ipython2",
      "version": "2.7.6"
    },
    "colab": {
      "provenance": [],
      "machine_shape": "hm",
      "include_colab_link": true
    },
    "gpuClass": "standard",
    "accelerator": "GPU",
    "widgets": {
      "application/vnd.jupyter.widget-state+json": {
        "8e0c3a72849242f9bc5ed0b4687b8985": {
          "model_module": "@jupyter-widgets/controls",
          "model_name": "HBoxModel",
          "model_module_version": "1.5.0",
          "state": {
            "_dom_classes": [],
            "_model_module": "@jupyter-widgets/controls",
            "_model_module_version": "1.5.0",
            "_model_name": "HBoxModel",
            "_view_count": null,
            "_view_module": "@jupyter-widgets/controls",
            "_view_module_version": "1.5.0",
            "_view_name": "HBoxView",
            "box_style": "",
            "children": [
              "IPY_MODEL_82d7edd3dedd423c84c6c52f11dbbbf3",
              "IPY_MODEL_250ce5c0ada84c9d8365947ef0c37679",
              "IPY_MODEL_0cf928190dcf4127acc6f52d9ab5789c"
            ],
            "layout": "IPY_MODEL_cdcfef00fb964b1ea184bd3c957cd0da"
          }
        },
        "82d7edd3dedd423c84c6c52f11dbbbf3": {
          "model_module": "@jupyter-widgets/controls",
          "model_name": "HTMLModel",
          "model_module_version": "1.5.0",
          "state": {
            "_dom_classes": [],
            "_model_module": "@jupyter-widgets/controls",
            "_model_module_version": "1.5.0",
            "_model_name": "HTMLModel",
            "_view_count": null,
            "_view_module": "@jupyter-widgets/controls",
            "_view_module_version": "1.5.0",
            "_view_name": "HTMLView",
            "description": "",
            "description_tooltip": null,
            "layout": "IPY_MODEL_e7318b5005264b4ca4924b26529ec236",
            "placeholder": "​",
            "style": "IPY_MODEL_b3e129850fe84a53ad4bf5d87c57bb3a",
            "value": " 13%"
          }
        },
        "250ce5c0ada84c9d8365947ef0c37679": {
          "model_module": "@jupyter-widgets/controls",
          "model_name": "FloatProgressModel",
          "model_module_version": "1.5.0",
          "state": {
            "_dom_classes": [],
            "_model_module": "@jupyter-widgets/controls",
            "_model_module_version": "1.5.0",
            "_model_name": "FloatProgressModel",
            "_view_count": null,
            "_view_module": "@jupyter-widgets/controls",
            "_view_module_version": "1.5.0",
            "_view_name": "ProgressView",
            "bar_style": "danger",
            "description": "",
            "description_tooltip": null,
            "layout": "IPY_MODEL_962be60024fb45a194214b2fc17b767e",
            "max": 100,
            "min": 0,
            "orientation": "horizontal",
            "style": "IPY_MODEL_5f1929c761ce45aa87b9cc83acf0644c",
            "value": 13
          }
        },
        "0cf928190dcf4127acc6f52d9ab5789c": {
          "model_module": "@jupyter-widgets/controls",
          "model_name": "HTMLModel",
          "model_module_version": "1.5.0",
          "state": {
            "_dom_classes": [],
            "_model_module": "@jupyter-widgets/controls",
            "_model_module_version": "1.5.0",
            "_model_name": "HTMLModel",
            "_view_count": null,
            "_view_module": "@jupyter-widgets/controls",
            "_view_module_version": "1.5.0",
            "_view_name": "HTMLView",
            "description": "",
            "description_tooltip": null,
            "layout": "IPY_MODEL_03bfb77c29e44484b1aa3c185504ef45",
            "placeholder": "​",
            "style": "IPY_MODEL_94eef4a51f4c47a8bdce45242d10f90b",
            "value": " 13/100 [09:50&lt;1:00:22, 41.64s/it]"
          }
        },
        "cdcfef00fb964b1ea184bd3c957cd0da": {
          "model_module": "@jupyter-widgets/base",
          "model_name": "LayoutModel",
          "model_module_version": "1.2.0",
          "state": {
            "_model_module": "@jupyter-widgets/base",
            "_model_module_version": "1.2.0",
            "_model_name": "LayoutModel",
            "_view_count": null,
            "_view_module": "@jupyter-widgets/base",
            "_view_module_version": "1.2.0",
            "_view_name": "LayoutView",
            "align_content": null,
            "align_items": null,
            "align_self": null,
            "border": null,
            "bottom": null,
            "display": null,
            "flex": null,
            "flex_flow": null,
            "grid_area": null,
            "grid_auto_columns": null,
            "grid_auto_flow": null,
            "grid_auto_rows": null,
            "grid_column": null,
            "grid_gap": null,
            "grid_row": null,
            "grid_template_areas": null,
            "grid_template_columns": null,
            "grid_template_rows": null,
            "height": null,
            "justify_content": null,
            "justify_items": null,
            "left": null,
            "margin": null,
            "max_height": null,
            "max_width": null,
            "min_height": null,
            "min_width": null,
            "object_fit": null,
            "object_position": null,
            "order": null,
            "overflow": null,
            "overflow_x": null,
            "overflow_y": null,
            "padding": null,
            "right": null,
            "top": null,
            "visibility": null,
            "width": null
          }
        },
        "e7318b5005264b4ca4924b26529ec236": {
          "model_module": "@jupyter-widgets/base",
          "model_name": "LayoutModel",
          "model_module_version": "1.2.0",
          "state": {
            "_model_module": "@jupyter-widgets/base",
            "_model_module_version": "1.2.0",
            "_model_name": "LayoutModel",
            "_view_count": null,
            "_view_module": "@jupyter-widgets/base",
            "_view_module_version": "1.2.0",
            "_view_name": "LayoutView",
            "align_content": null,
            "align_items": null,
            "align_self": null,
            "border": null,
            "bottom": null,
            "display": null,
            "flex": null,
            "flex_flow": null,
            "grid_area": null,
            "grid_auto_columns": null,
            "grid_auto_flow": null,
            "grid_auto_rows": null,
            "grid_column": null,
            "grid_gap": null,
            "grid_row": null,
            "grid_template_areas": null,
            "grid_template_columns": null,
            "grid_template_rows": null,
            "height": null,
            "justify_content": null,
            "justify_items": null,
            "left": null,
            "margin": null,
            "max_height": null,
            "max_width": null,
            "min_height": null,
            "min_width": null,
            "object_fit": null,
            "object_position": null,
            "order": null,
            "overflow": null,
            "overflow_x": null,
            "overflow_y": null,
            "padding": null,
            "right": null,
            "top": null,
            "visibility": null,
            "width": null
          }
        },
        "b3e129850fe84a53ad4bf5d87c57bb3a": {
          "model_module": "@jupyter-widgets/controls",
          "model_name": "DescriptionStyleModel",
          "model_module_version": "1.5.0",
          "state": {
            "_model_module": "@jupyter-widgets/controls",
            "_model_module_version": "1.5.0",
            "_model_name": "DescriptionStyleModel",
            "_view_count": null,
            "_view_module": "@jupyter-widgets/base",
            "_view_module_version": "1.2.0",
            "_view_name": "StyleView",
            "description_width": ""
          }
        },
        "962be60024fb45a194214b2fc17b767e": {
          "model_module": "@jupyter-widgets/base",
          "model_name": "LayoutModel",
          "model_module_version": "1.2.0",
          "state": {
            "_model_module": "@jupyter-widgets/base",
            "_model_module_version": "1.2.0",
            "_model_name": "LayoutModel",
            "_view_count": null,
            "_view_module": "@jupyter-widgets/base",
            "_view_module_version": "1.2.0",
            "_view_name": "LayoutView",
            "align_content": null,
            "align_items": null,
            "align_self": null,
            "border": null,
            "bottom": null,
            "display": null,
            "flex": null,
            "flex_flow": null,
            "grid_area": null,
            "grid_auto_columns": null,
            "grid_auto_flow": null,
            "grid_auto_rows": null,
            "grid_column": null,
            "grid_gap": null,
            "grid_row": null,
            "grid_template_areas": null,
            "grid_template_columns": null,
            "grid_template_rows": null,
            "height": null,
            "justify_content": null,
            "justify_items": null,
            "left": null,
            "margin": null,
            "max_height": null,
            "max_width": null,
            "min_height": null,
            "min_width": null,
            "object_fit": null,
            "object_position": null,
            "order": null,
            "overflow": null,
            "overflow_x": null,
            "overflow_y": null,
            "padding": null,
            "right": null,
            "top": null,
            "visibility": null,
            "width": null
          }
        },
        "5f1929c761ce45aa87b9cc83acf0644c": {
          "model_module": "@jupyter-widgets/controls",
          "model_name": "ProgressStyleModel",
          "model_module_version": "1.5.0",
          "state": {
            "_model_module": "@jupyter-widgets/controls",
            "_model_module_version": "1.5.0",
            "_model_name": "ProgressStyleModel",
            "_view_count": null,
            "_view_module": "@jupyter-widgets/base",
            "_view_module_version": "1.2.0",
            "_view_name": "StyleView",
            "bar_color": null,
            "description_width": ""
          }
        },
        "03bfb77c29e44484b1aa3c185504ef45": {
          "model_module": "@jupyter-widgets/base",
          "model_name": "LayoutModel",
          "model_module_version": "1.2.0",
          "state": {
            "_model_module": "@jupyter-widgets/base",
            "_model_module_version": "1.2.0",
            "_model_name": "LayoutModel",
            "_view_count": null,
            "_view_module": "@jupyter-widgets/base",
            "_view_module_version": "1.2.0",
            "_view_name": "LayoutView",
            "align_content": null,
            "align_items": null,
            "align_self": null,
            "border": null,
            "bottom": null,
            "display": null,
            "flex": null,
            "flex_flow": null,
            "grid_area": null,
            "grid_auto_columns": null,
            "grid_auto_flow": null,
            "grid_auto_rows": null,
            "grid_column": null,
            "grid_gap": null,
            "grid_row": null,
            "grid_template_areas": null,
            "grid_template_columns": null,
            "grid_template_rows": null,
            "height": null,
            "justify_content": null,
            "justify_items": null,
            "left": null,
            "margin": null,
            "max_height": null,
            "max_width": null,
            "min_height": null,
            "min_width": null,
            "object_fit": null,
            "object_position": null,
            "order": null,
            "overflow": null,
            "overflow_x": null,
            "overflow_y": null,
            "padding": null,
            "right": null,
            "top": null,
            "visibility": null,
            "width": null
          }
        },
        "94eef4a51f4c47a8bdce45242d10f90b": {
          "model_module": "@jupyter-widgets/controls",
          "model_name": "DescriptionStyleModel",
          "model_module_version": "1.5.0",
          "state": {
            "_model_module": "@jupyter-widgets/controls",
            "_model_module_version": "1.5.0",
            "_model_name": "DescriptionStyleModel",
            "_view_count": null,
            "_view_module": "@jupyter-widgets/base",
            "_view_module_version": "1.2.0",
            "_view_name": "StyleView",
            "description_width": ""
          }
        }
      }
    }
  },
  "nbformat": 4,
  "nbformat_minor": 0
}