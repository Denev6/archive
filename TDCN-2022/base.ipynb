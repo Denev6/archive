{
  "cells": [
    {
      "cell_type": "markdown",
      "metadata": {
        "id": "view-in-github",
        "colab_type": "text"
      },
      "source": [
        "<a href=\"https://colab.research.google.com/github/Denev6/CapStone/blob/main/base.ipynb\" target=\"_parent\"><img src=\"https://colab.research.google.com/assets/colab-badge.svg\" alt=\"Open In Colab\"/></a>"
      ]
    },
    {
      "cell_type": "code",
      "execution_count": null,
      "metadata": {
        "colab": {
          "base_uri": "https://localhost:8080/"
        },
        "id": "jdI4496Oi5le",
        "outputId": "be2556d3-fbcd-4b2d-8c84-ebf7407bf722"
      },
      "outputs": [
        {
          "output_type": "stream",
          "name": "stdout",
          "text": [
            "Looking in indexes: https://pypi.org/simple, https://us-python.pkg.dev/colab-wheels/public/simple/\n",
            "Requirement already satisfied: torchsummary in /usr/local/lib/python3.8/dist-packages (1.5.1)\n"
          ]
        }
      ],
      "source": [
        "!pip install torchsummary"
      ]
    },
    {
      "cell_type": "markdown",
      "metadata": {
        "id": "1pzHbJmEgB0T"
      },
      "source": [
        "# CNN 살펴보기"
      ]
    },
    {
      "cell_type": "code",
      "execution_count": null,
      "metadata": {
        "id": "Cz95IbIgaQyI"
      },
      "outputs": [],
      "source": [
        "import os\n",
        "import gc\n",
        "import pickle\n",
        "import random\n",
        "from google.colab import drive\n",
        "# import warnings\n",
        "\n",
        "import numpy as np \n",
        "import pandas as pd\n",
        "from tqdm.auto import tqdm, trange\n",
        "import torch\n",
        "import torch.nn as nn\n",
        "import torch.optim as optim\n",
        "import torch.nn.functional as F\n",
        "from torch.utils.data import Dataset, DataLoader\n",
        "from torchsummary import summary\n",
        "from sklearn.metrics import (\n",
        "    f1_score,\n",
        "    accuracy_score,\n",
        "    recall_score,\n",
        "    precision_score,\n",
        "    confusion_matrix,\n",
        ")"
      ]
    },
    {
      "cell_type": "code",
      "execution_count": null,
      "metadata": {
        "colab": {
          "base_uri": "https://localhost:8080/"
        },
        "id": "0DFNEI_IdzGt",
        "outputId": "81bbfde2-36d7-4030-dea3-7835dc964b0a"
      },
      "outputs": [
        {
          "output_type": "stream",
          "name": "stdout",
          "text": [
            "Drive already mounted at /content/drive; to attempt to forcibly remount, call drive.mount(\"/content/drive\", force_remount=True).\n"
          ]
        }
      ],
      "source": [
        "drive.mount(\"/content/drive\")\n",
        "# warnings.simplefilter(\"ignore\")\n",
        "\n",
        "def clear():\n",
        "    gc.collect()\n",
        "    torch.cuda.empty_cache()\n",
        "\n",
        "def join_path(*args):\n",
        "    return os.path.join(\"/content/drive/MyDrive\", *args)\n",
        "\n",
        "train_csv = join_path(\"Capstone\", \"data\", \"train.pk\")\n",
        "dev_csv = join_path(\"Capstone\", \"data\", \"dev.pk\")\n",
        "test_csv = join_path(\"Capstone\", \"data\", \"test.pk\")\n",
        "\n",
        "train_data = pickle.load(open(train_csv, 'rb'))\n",
        "dev_data = pickle.load(open(dev_csv, 'rb'))\n",
        "test_data = pickle.load(open(test_csv, 'rb'))\n",
        "\n",
        "DEVICE = \"cuda\" if torch.cuda.is_available() else \"cpu\"\n",
        "BATCH_SIZE = 4\n",
        "EPOCHS = 5\n",
        "LEARNING_RATE = 1e-4\n",
        "MODEL_PATH = join_path(\"tdcn.pth\")"
      ]
    },
    {
      "cell_type": "markdown",
      "metadata": {
        "id": "vvrSe1oGcoe2"
      },
      "source": [
        "## Dataset"
      ]
    },
    {
      "cell_type": "code",
      "execution_count": null,
      "metadata": {
        "id": "Jd668LWGd01N"
      },
      "outputs": [],
      "source": [
        "class CustomDataset(Dataset):\n",
        "    \"\"\"데이터 처리\"\"\"\n",
        "    def __init__(self, data, up_count=500, data_size=5000):\n",
        "        self.data = {}\n",
        "        for k, v in data.items():\n",
        "            tmp = {\n",
        "                'pose' : torch.FloatTensor(v['pose'].astype('float').values),\n",
        "                'features' : torch.FloatTensor(v['features'].astype('float').values),\n",
        "                'y' : torch.IntTensor([v['y']])\n",
        "            }\n",
        "            self.data[k] = tmp\n",
        "        self.up_count = up_count\n",
        "        self.data_size = data_size\n",
        "        \n",
        "    def __len__(self):\n",
        "        return len(self.data) * self.up_count\n",
        "\n",
        "    def __getitem__(self, index):\n",
        "        target_data = random.choice(list(self.data.values()))\n",
        "        x1 = target_data['features']\n",
        "        x2 = target_data['pose']\n",
        "        cut = random.randrange(0, len(x1)-self.data_size)\n",
        "        x1 = x1[cut: cut + self.data_size]\n",
        "        x2 = x2[cut: cut + self.data_size]\n",
        "        y = target_data['y']\n",
        "        return (x1, x2), y"
      ]
    },
    {
      "cell_type": "code",
      "execution_count": null,
      "metadata": {
        "colab": {
          "base_uri": "https://localhost:8080/"
        },
        "id": "FO_wO7yLnvzi",
        "outputId": "6ac2284c-e9fc-4f9e-b5ea-906f2c27c487"
      },
      "outputs": [
        {
          "output_type": "stream",
          "name": "stderr",
          "text": [
            "<ipython-input-4-803cc82a778a>:9: DeprecationWarning: an integer is required (got type numpy.float64).  Implicit conversion to integers using __int__ is deprecated, and may be removed in a future version of Python.\n",
            "  'y' : torch.IntTensor([v['y']])\n"
          ]
        }
      ],
      "source": [
        "# 데이터셋\n",
        "training_dataset = CustomDataset(train_data)\n",
        "dev_dataset = CustomDataset(dev_data, up_count=1)\n",
        "test_dataset = CustomDataset(test_data, up_count=10)\n",
        "\n",
        "train_dataloader = DataLoader(training_dataset, batch_size=BATCH_SIZE)\n",
        "dev_dataloader = DataLoader(dev_dataset, batch_size=BATCH_SIZE)\n",
        "test_dataloader = DataLoader(test_dataset, batch_size=BATCH_SIZE)"
      ]
    },
    {
      "cell_type": "markdown",
      "metadata": {
        "id": "zXM3rNbgcqaK"
      },
      "source": [
        "## CNN"
      ]
    },
    {
      "cell_type": "code",
      "execution_count": null,
      "metadata": {
        "id": "5XYPmif7d22I"
      },
      "outputs": [],
      "source": [
        "class BaseModel(nn.Module):\n",
        "    def __init__(self, num_label=2):\n",
        "        super(BaseModel, self).__init__()\n",
        "        self.conv = nn.Sequential(\n",
        "            nn.Conv2d(1, 8, kernel_size=2, dilation=2, padding=\"same\"),\n",
        "            nn.ELU(inplace=True),\n",
        "            nn.MaxPool2d(kernel_size=2, stride=2),\n",
        "            nn.Conv2d(8, 16, kernel_size=2, dilation=2, padding=\"same\"),\n",
        "            nn.ELU(inplace=True),\n",
        "            nn.MaxPool2d(kernel_size=2, stride=2),\n",
        "            nn.BatchNorm2d(16, affine=True)\n",
        "        )\n",
        "\n",
        "        self.classifier = nn.Sequential(\n",
        "            nn.Flatten(1, -1),\n",
        "            nn.Linear(350000 * 2, 1024),\n",
        "            nn.ELU(inplace=True),\n",
        "            nn.Linear(1024, 64),\n",
        "            nn.ELU(inplace=True),\n",
        "            nn.Dropout(p=0.5),\n",
        "            nn.Linear(64, num_label),\n",
        "        )\n",
        "\n",
        "    def forward(self, feat_x, pose_x):\n",
        "        feat_y = self.conv(feat_x)\n",
        "        pose_y = self.conv(pose_x)\n",
        "        out = torch.cat((feat_y, pose_y), dim=-1)\n",
        "        out = self.classifier(out)\n",
        "        return out"
      ]
    },
    {
      "cell_type": "code",
      "execution_count": null,
      "metadata": {
        "id": "1w2Z9EPEdKgX"
      },
      "outputs": [],
      "source": [
        "model = BaseModel(num_label=2)\n",
        "loss_fn = nn.CrossEntropyLoss()\n",
        "optimizer = optim.SGD(model.parameters(), lr=LEARNING_RATE, momentum=0.9)"
      ]
    },
    {
      "cell_type": "code",
      "execution_count": null,
      "metadata": {
        "colab": {
          "base_uri": "https://localhost:8080/"
        },
        "id": "QYajyWP5dMU0",
        "outputId": "5d80761c-09fd-48dc-bf7a-e3dd5582aa57"
      },
      "outputs": [
        {
          "output_type": "stream",
          "name": "stdout",
          "text": [
            "----------------------------------------------------------------\n",
            "        Layer (type)               Output Shape         Param #\n",
            "================================================================\n",
            "            Conv2d-1          [4, 8, 5000, 136]              40\n",
            "               ELU-2          [4, 8, 5000, 136]               0\n",
            "         MaxPool2d-3           [4, 8, 2500, 68]               0\n",
            "            Conv2d-4          [4, 16, 2500, 68]             528\n",
            "               ELU-5          [4, 16, 2500, 68]               0\n",
            "         MaxPool2d-6          [4, 16, 1250, 34]               0\n",
            "       BatchNorm2d-7          [4, 16, 1250, 34]              32\n",
            "            Conv2d-8            [4, 8, 5000, 6]              40\n",
            "               ELU-9            [4, 8, 5000, 6]               0\n",
            "        MaxPool2d-10            [4, 8, 2500, 3]               0\n",
            "           Conv2d-11           [4, 16, 2500, 3]             528\n",
            "              ELU-12           [4, 16, 2500, 3]               0\n",
            "        MaxPool2d-13           [4, 16, 1250, 1]               0\n",
            "      BatchNorm2d-14           [4, 16, 1250, 1]              32\n",
            "          Flatten-15                [4, 700000]               0\n",
            "           Linear-16                  [4, 1024]     716,801,024\n",
            "              ELU-17                  [4, 1024]               0\n",
            "           Linear-18                    [4, 64]          65,600\n",
            "              ELU-19                    [4, 64]               0\n",
            "          Dropout-20                    [4, 64]               0\n",
            "           Linear-21                     [4, 2]             130\n",
            "================================================================\n",
            "Total params: 716,867,954\n",
            "Trainable params: 716,867,954\n",
            "Non-trainable params: 0\n",
            "----------------------------------------------------------------\n",
            "Input size (MB): 311279.30\n",
            "Forward/backward pass size (MB): 627.51\n",
            "Params size (MB): 2734.63\n",
            "Estimated Total Size (MB): 314641.44\n",
            "----------------------------------------------------------------\n"
          ]
        }
      ],
      "source": [
        "model.to(DEVICE)\n",
        "summary(model, [(1, 5000, 136), (1, 5000, 6)], batch_size=BATCH_SIZE)"
      ]
    },
    {
      "cell_type": "markdown",
      "metadata": {
        "id": "p3XVnERqctDE"
      },
      "source": [
        "## Train"
      ]
    },
    {
      "cell_type": "code",
      "execution_count": null,
      "metadata": {
        "id": "kmlLlfOVd5GR"
      },
      "outputs": [],
      "source": [
        "def train(train_loader, test_loader, model, loss_fn, optimizer):\n",
        "    model.to(DEVICE) \n",
        "    loss_fn.to(DEVICE)\n",
        "    optimizer.zero_grad()\n",
        "    num_batches = len(train_loader)\n",
        "\n",
        "    epoch_progress = trange(1, EPOCHS + 1)\n",
        "    # tqdm.write(\"\\nEpoch | Train Loss | Test Loss\")\n",
        "    # tqdm.write(\"-\" * 30)\n",
        "    \n",
        "    for epoch in epoch_progress:\n",
        "        model.train()\n",
        "        # train_loss = 0\n",
        "        for (x1, x2), label in train_loader:\n",
        "            x1 = x1.unsqueeze(1).to(DEVICE) \n",
        "            x2 = x2.unsqueeze(1).to(DEVICE) \n",
        "            label = label.squeeze(-1).to(DEVICE)\n",
        "            # x1: [8, 1, 5000, 136] > [Batch, Channel, Height, Width]\n",
        "            # x2: [8, 1, 5000, 6] > [Batch, Channel, Height, Width]\n",
        "            # label: [8] > [Height]\n",
        "            \n",
        "            pred = model(x1, x2)  \n",
        "            # pred: [8, 2]\n",
        "            loss = loss_fn(pred, label.long())\n",
        "            # train_loss += loss.item()\n",
        "            \n",
        "            loss.backward()\n",
        "            optimizer.step()\n",
        "            optimizer.zero_grad()\n",
        "\n",
        "        # train_loss /= num_batches\n",
        "    \n",
        "        # eval_loss = evaluate(test_loader, model, loss_fn)\n",
        "        # tqdm.write(f\"{epoch:5} | {train_loss:10.5f} | {eval_loss:9.5f}\")\n",
        "\n",
        "# 학습된 모델 불러오기\n",
        "    return model\n",
        "\n",
        "\n",
        "def evaluate(loader, model, loss_fn, return_metrics=False):\n",
        "    model.eval()\n",
        "    num_batches = len(loader)\n",
        "    test_loss = 0\n",
        "    true_labels = list()\n",
        "    pred_values = list()\n",
        "\n",
        "    with torch.no_grad():\n",
        "        for (x1, x2), label in loader:\n",
        "            x1 = x1.unsqueeze(1).to(DEVICE) \n",
        "            x2 = x2.unsqueeze(1).to(DEVICE) \n",
        "            label = label.squeeze(-1).to(DEVICE)\n",
        "\n",
        "            pred = model(x1, x2)  \n",
        "            loss = loss_fn(pred, label.long())\n",
        "            test_loss += loss.item()\n",
        "\n",
        "            if return_metrics:\n",
        "                true_labels += label.detach().cpu().numpy().tolist()\n",
        "                pred_values += pred.argmax(-1).detach().cpu().numpy().tolist()\n",
        "\n",
        "    if not return_metrics:\n",
        "        # 학습 과정에서는 Loss 값만 확인합니다.\n",
        "        test_loss /= num_batches\n",
        "        return test_loss\n",
        "\n",
        "    else:\n",
        "        # 학습이 종료되고 성능 평가 지표를 확인합니다.\n",
        "        accuracy = accuracy_score(true_labels, pred_values)\n",
        "        f1 = f1_score(true_labels, pred_values)\n",
        "        f1_macro = f1_score(true_labels, pred_values, average=\"macro\")\n",
        "        recall = recall_score(true_labels, pred_values)\n",
        "        precision = precision_score(true_labels, pred_values)\n",
        "        matrix = confusion_matrix(true_labels, pred_values).ravel()\n",
        "\n",
        "        return {\n",
        "            \"accuracy\": accuracy,\n",
        "            \"f1\": f1,\n",
        "            \"f1-macro\": f1_macro,\n",
        "            \"recall\": recall,\n",
        "            \"precision\": precision,\n",
        "            \"loss\": test_loss,\n",
        "            \"matrix\": matrix,\n",
        "        }"
      ]
    },
    {
      "cell_type": "code",
      "execution_count": null,
      "metadata": {
        "colab": {
          "base_uri": "https://localhost:8080/",
          "height": 49,
          "referenced_widgets": [
            "9e9550dd3f96465a9f931e120c081ea3",
            "6aabd2729bba46e9914deab374d67e4f",
            "a1b3a6b22c534ea783e9338dc1058ee4",
            "e12af92dbdb5462c8f07ea37c331cab6",
            "fe16d75389254708842c4f81331c36fc",
            "9d4ec9847062432dacdd7d2ef8aaadb0",
            "6a554bdb95034666b0dc2f087d1d0203",
            "7c5618693bf6452692573945d2e926e2",
            "e379c9d8ba8f49b68d578790c0f1ff9c",
            "77a3cac91bcb4f5fbfc4b88d8b888885",
            "10d2aef76a3b4aed8454b424bc4fc267"
          ]
        },
        "id": "A3HcuulgZQHf",
        "outputId": "f1d46f2f-624f-4fb6-ddd2-ee90076ce0e4"
      },
      "outputs": [
        {
          "output_type": "display_data",
          "data": {
            "text/plain": [
              "  0%|          | 0/5 [00:00<?, ?it/s]"
            ],
            "application/vnd.jupyter.widget-view+json": {
              "version_major": 2,
              "version_minor": 0,
              "model_id": "9e9550dd3f96465a9f931e120c081ea3"
            }
          },
          "metadata": {}
        }
      ],
      "source": [
        "# 모델 학습\n",
        "model = train(train_dataloader, dev_dataloader, model, loss_fn, optimizer)"
      ]
    },
    {
      "cell_type": "code",
      "execution_count": null,
      "metadata": {
        "id": "GXM_nblgT1VV"
      },
      "outputs": [],
      "source": [
        "torch.save(model.state_dict(), join_path(MODEL_PATH))"
      ]
    },
    {
      "cell_type": "markdown",
      "metadata": {
        "id": "j3ksFZAtcvS8"
      },
      "source": [
        "## Test"
      ]
    },
    {
      "cell_type": "code",
      "execution_count": null,
      "metadata": {
        "colab": {
          "base_uri": "https://localhost:8080/"
        },
        "id": "vBY1dUR9ZSNe",
        "outputId": "1e3fedd2-2003-4633-ed99-fc60c283ab8e"
      },
      "outputs": [
        {
          "output_type": "stream",
          "name": "stdout",
          "text": [
            "Accuracy:  0.532\n",
            "F1-score:  0.091\n",
            "F1-macro:  0.388\n",
            "Recall:    0.048\n",
            "Precision: 1.000\n",
            "------------------------------\n",
            "TN: 239\n",
            "FP: 0\n",
            "FN: 220\n",
            "TP: 11\n"
          ]
        }
      ],
      "source": [
        "clear()\n",
        "metrics = evaluate(test_dataloader, model, loss_fn, return_metrics=True)\n",
        "\n",
        "print(f\"Accuracy:  {metrics['accuracy']:.3f}\")\n",
        "print(f\"F1-score:  {metrics['f1']:.3f}\")\n",
        "print(f\"F1-macro:  {metrics['f1-macro']:.3f}\")\n",
        "print(f\"Recall:    {metrics['recall']:.3f}\")\n",
        "print(f\"Precision: {metrics['precision']:.3f}\")\n",
        "\n",
        "print(\"-\" * 30)\n",
        "tn, fp, fn, tp = metrics[\"matrix\"]\n",
        "print(f\"TN: {tn}\")\n",
        "print(f\"FP: {fp}\")\n",
        "print(f\"FN: {fn}\")\n",
        "print(f\"TP: {tp}\")"
      ]
    },
    {
      "cell_type": "code",
      "execution_count": null,
      "metadata": {
        "id": "qBAtRInId630",
        "colab": {
          "base_uri": "https://localhost:8080/"
        },
        "outputId": "0049efba-a7ee-4008-93de-c576a2ae0ebb"
      },
      "outputs": [
        {
          "output_type": "stream",
          "name": "stdout",
          "text": [
            "1: [0.636  0.364]\n",
            "0: [1.000  0.000]\n",
            "0: [1.000  0.000]\n",
            "1: [0.998  0.002]\n",
            "1: [1.000  0.000]\n",
            "0: [1.000  0.000]\n",
            "0: [1.000  0.000]\n",
            "0: [1.000  0.000]\n",
            "0: [1.000  0.000]\n",
            "0: [1.000  0.000]\n",
            "1: [0.877  0.123]\n",
            "0: [1.000  0.000]\n",
            "1: [1.000  0.000]\n",
            "1: [1.000  0.000]\n",
            "0: [1.000  0.000]\n",
            "1: [1.000  0.000]\n",
            "1: [0.996  0.004]\n",
            "0: [1.000  0.000]\n",
            "0: [1.000  0.000]\n",
            "1: [1.000  0.000]\n",
            "0: [1.000  0.000]\n",
            "0: [1.000  0.000]\n",
            "0: [1.000  0.000]\n",
            "0: [1.000  0.000]\n",
            "1: [1.000  0.000]\n",
            "1: [1.000  0.000]\n",
            "1: [0.931  0.069]\n",
            "1: [1.000  0.000]\n",
            "1: [1.000  0.000]\n",
            "1: [1.000  0.000]\n"
          ]
        }
      ],
      "source": [
        "def show_probs(test_data, model, max=6):\n",
        "    dataloader = DataLoader(test_dataset, batch_size=1, shuffle=True)\n",
        "\n",
        "    model.eval()\n",
        "    neg_max = max // 2\n",
        "    pos_max = max - neg_max\n",
        "    pos_count = 0\n",
        "    neg_count = 0\n",
        "    with torch.no_grad():\n",
        "        for (x1, x2), label in dataloader:\n",
        "            x1 = x1.unsqueeze(1).to(DEVICE) \n",
        "            x2 = x2.unsqueeze(1).to(DEVICE) \n",
        "            # label = label.to(DEVICE)\n",
        "\n",
        "            if label.item() == 0 and pos_count < pos_max:\n",
        "                pos_count += 1\n",
        "                label = label.item()\n",
        "            elif label.item() == 1 and neg_count < neg_max:\n",
        "                neg_count += 1\n",
        "                label = label.item()\n",
        "            elif pos_count + neg_count == max:\n",
        "                break\n",
        "            else:\n",
        "                continue\n",
        "\n",
        "            pred = model(x1, x2)\n",
        "            pred = F.softmax(pred.squeeze(0), dim=-1)\n",
        "            normal, abnormal = pred\n",
        "            print(f\"{label}: [{normal:.3f}  {abnormal:.3f}]\")\n",
        "\n",
        "show_probs(test_data, model, 30)"
      ]
    }
  ],
  "metadata": {
    "accelerator": "GPU",
    "colab": {
      "machine_shape": "hm",
      "provenance": [],
      "include_colab_link": true
    },
    "gpuClass": "premium",
    "kernelspec": {
      "display_name": "Python 3",
      "name": "python3"
    },
    "language_info": {
      "name": "python"
    },
    "widgets": {
      "application/vnd.jupyter.widget-state+json": {
        "9e9550dd3f96465a9f931e120c081ea3": {
          "model_module": "@jupyter-widgets/controls",
          "model_name": "HBoxModel",
          "model_module_version": "1.5.0",
          "state": {
            "_dom_classes": [],
            "_model_module": "@jupyter-widgets/controls",
            "_model_module_version": "1.5.0",
            "_model_name": "HBoxModel",
            "_view_count": null,
            "_view_module": "@jupyter-widgets/controls",
            "_view_module_version": "1.5.0",
            "_view_name": "HBoxView",
            "box_style": "",
            "children": [
              "IPY_MODEL_6aabd2729bba46e9914deab374d67e4f",
              "IPY_MODEL_a1b3a6b22c534ea783e9338dc1058ee4",
              "IPY_MODEL_e12af92dbdb5462c8f07ea37c331cab6"
            ],
            "layout": "IPY_MODEL_fe16d75389254708842c4f81331c36fc"
          }
        },
        "6aabd2729bba46e9914deab374d67e4f": {
          "model_module": "@jupyter-widgets/controls",
          "model_name": "HTMLModel",
          "model_module_version": "1.5.0",
          "state": {
            "_dom_classes": [],
            "_model_module": "@jupyter-widgets/controls",
            "_model_module_version": "1.5.0",
            "_model_name": "HTMLModel",
            "_view_count": null,
            "_view_module": "@jupyter-widgets/controls",
            "_view_module_version": "1.5.0",
            "_view_name": "HTMLView",
            "description": "",
            "description_tooltip": null,
            "layout": "IPY_MODEL_9d4ec9847062432dacdd7d2ef8aaadb0",
            "placeholder": "​",
            "style": "IPY_MODEL_6a554bdb95034666b0dc2f087d1d0203",
            "value": "100%"
          }
        },
        "a1b3a6b22c534ea783e9338dc1058ee4": {
          "model_module": "@jupyter-widgets/controls",
          "model_name": "FloatProgressModel",
          "model_module_version": "1.5.0",
          "state": {
            "_dom_classes": [],
            "_model_module": "@jupyter-widgets/controls",
            "_model_module_version": "1.5.0",
            "_model_name": "FloatProgressModel",
            "_view_count": null,
            "_view_module": "@jupyter-widgets/controls",
            "_view_module_version": "1.5.0",
            "_view_name": "ProgressView",
            "bar_style": "success",
            "description": "",
            "description_tooltip": null,
            "layout": "IPY_MODEL_7c5618693bf6452692573945d2e926e2",
            "max": 5,
            "min": 0,
            "orientation": "horizontal",
            "style": "IPY_MODEL_e379c9d8ba8f49b68d578790c0f1ff9c",
            "value": 5
          }
        },
        "e12af92dbdb5462c8f07ea37c331cab6": {
          "model_module": "@jupyter-widgets/controls",
          "model_name": "HTMLModel",
          "model_module_version": "1.5.0",
          "state": {
            "_dom_classes": [],
            "_model_module": "@jupyter-widgets/controls",
            "_model_module_version": "1.5.0",
            "_model_name": "HTMLModel",
            "_view_count": null,
            "_view_module": "@jupyter-widgets/controls",
            "_view_module_version": "1.5.0",
            "_view_name": "HTMLView",
            "description": "",
            "description_tooltip": null,
            "layout": "IPY_MODEL_77a3cac91bcb4f5fbfc4b88d8b888885",
            "placeholder": "​",
            "style": "IPY_MODEL_10d2aef76a3b4aed8454b424bc4fc267",
            "value": " 5/5 [3:53:45&lt;00:00, 2805.42s/it]"
          }
        },
        "fe16d75389254708842c4f81331c36fc": {
          "model_module": "@jupyter-widgets/base",
          "model_name": "LayoutModel",
          "model_module_version": "1.2.0",
          "state": {
            "_model_module": "@jupyter-widgets/base",
            "_model_module_version": "1.2.0",
            "_model_name": "LayoutModel",
            "_view_count": null,
            "_view_module": "@jupyter-widgets/base",
            "_view_module_version": "1.2.0",
            "_view_name": "LayoutView",
            "align_content": null,
            "align_items": null,
            "align_self": null,
            "border": null,
            "bottom": null,
            "display": null,
            "flex": null,
            "flex_flow": null,
            "grid_area": null,
            "grid_auto_columns": null,
            "grid_auto_flow": null,
            "grid_auto_rows": null,
            "grid_column": null,
            "grid_gap": null,
            "grid_row": null,
            "grid_template_areas": null,
            "grid_template_columns": null,
            "grid_template_rows": null,
            "height": null,
            "justify_content": null,
            "justify_items": null,
            "left": null,
            "margin": null,
            "max_height": null,
            "max_width": null,
            "min_height": null,
            "min_width": null,
            "object_fit": null,
            "object_position": null,
            "order": null,
            "overflow": null,
            "overflow_x": null,
            "overflow_y": null,
            "padding": null,
            "right": null,
            "top": null,
            "visibility": null,
            "width": null
          }
        },
        "9d4ec9847062432dacdd7d2ef8aaadb0": {
          "model_module": "@jupyter-widgets/base",
          "model_name": "LayoutModel",
          "model_module_version": "1.2.0",
          "state": {
            "_model_module": "@jupyter-widgets/base",
            "_model_module_version": "1.2.0",
            "_model_name": "LayoutModel",
            "_view_count": null,
            "_view_module": "@jupyter-widgets/base",
            "_view_module_version": "1.2.0",
            "_view_name": "LayoutView",
            "align_content": null,
            "align_items": null,
            "align_self": null,
            "border": null,
            "bottom": null,
            "display": null,
            "flex": null,
            "flex_flow": null,
            "grid_area": null,
            "grid_auto_columns": null,
            "grid_auto_flow": null,
            "grid_auto_rows": null,
            "grid_column": null,
            "grid_gap": null,
            "grid_row": null,
            "grid_template_areas": null,
            "grid_template_columns": null,
            "grid_template_rows": null,
            "height": null,
            "justify_content": null,
            "justify_items": null,
            "left": null,
            "margin": null,
            "max_height": null,
            "max_width": null,
            "min_height": null,
            "min_width": null,
            "object_fit": null,
            "object_position": null,
            "order": null,
            "overflow": null,
            "overflow_x": null,
            "overflow_y": null,
            "padding": null,
            "right": null,
            "top": null,
            "visibility": null,
            "width": null
          }
        },
        "6a554bdb95034666b0dc2f087d1d0203": {
          "model_module": "@jupyter-widgets/controls",
          "model_name": "DescriptionStyleModel",
          "model_module_version": "1.5.0",
          "state": {
            "_model_module": "@jupyter-widgets/controls",
            "_model_module_version": "1.5.0",
            "_model_name": "DescriptionStyleModel",
            "_view_count": null,
            "_view_module": "@jupyter-widgets/base",
            "_view_module_version": "1.2.0",
            "_view_name": "StyleView",
            "description_width": ""
          }
        },
        "7c5618693bf6452692573945d2e926e2": {
          "model_module": "@jupyter-widgets/base",
          "model_name": "LayoutModel",
          "model_module_version": "1.2.0",
          "state": {
            "_model_module": "@jupyter-widgets/base",
            "_model_module_version": "1.2.0",
            "_model_name": "LayoutModel",
            "_view_count": null,
            "_view_module": "@jupyter-widgets/base",
            "_view_module_version": "1.2.0",
            "_view_name": "LayoutView",
            "align_content": null,
            "align_items": null,
            "align_self": null,
            "border": null,
            "bottom": null,
            "display": null,
            "flex": null,
            "flex_flow": null,
            "grid_area": null,
            "grid_auto_columns": null,
            "grid_auto_flow": null,
            "grid_auto_rows": null,
            "grid_column": null,
            "grid_gap": null,
            "grid_row": null,
            "grid_template_areas": null,
            "grid_template_columns": null,
            "grid_template_rows": null,
            "height": null,
            "justify_content": null,
            "justify_items": null,
            "left": null,
            "margin": null,
            "max_height": null,
            "max_width": null,
            "min_height": null,
            "min_width": null,
            "object_fit": null,
            "object_position": null,
            "order": null,
            "overflow": null,
            "overflow_x": null,
            "overflow_y": null,
            "padding": null,
            "right": null,
            "top": null,
            "visibility": null,
            "width": null
          }
        },
        "e379c9d8ba8f49b68d578790c0f1ff9c": {
          "model_module": "@jupyter-widgets/controls",
          "model_name": "ProgressStyleModel",
          "model_module_version": "1.5.0",
          "state": {
            "_model_module": "@jupyter-widgets/controls",
            "_model_module_version": "1.5.0",
            "_model_name": "ProgressStyleModel",
            "_view_count": null,
            "_view_module": "@jupyter-widgets/base",
            "_view_module_version": "1.2.0",
            "_view_name": "StyleView",
            "bar_color": null,
            "description_width": ""
          }
        },
        "77a3cac91bcb4f5fbfc4b88d8b888885": {
          "model_module": "@jupyter-widgets/base",
          "model_name": "LayoutModel",
          "model_module_version": "1.2.0",
          "state": {
            "_model_module": "@jupyter-widgets/base",
            "_model_module_version": "1.2.0",
            "_model_name": "LayoutModel",
            "_view_count": null,
            "_view_module": "@jupyter-widgets/base",
            "_view_module_version": "1.2.0",
            "_view_name": "LayoutView",
            "align_content": null,
            "align_items": null,
            "align_self": null,
            "border": null,
            "bottom": null,
            "display": null,
            "flex": null,
            "flex_flow": null,
            "grid_area": null,
            "grid_auto_columns": null,
            "grid_auto_flow": null,
            "grid_auto_rows": null,
            "grid_column": null,
            "grid_gap": null,
            "grid_row": null,
            "grid_template_areas": null,
            "grid_template_columns": null,
            "grid_template_rows": null,
            "height": null,
            "justify_content": null,
            "justify_items": null,
            "left": null,
            "margin": null,
            "max_height": null,
            "max_width": null,
            "min_height": null,
            "min_width": null,
            "object_fit": null,
            "object_position": null,
            "order": null,
            "overflow": null,
            "overflow_x": null,
            "overflow_y": null,
            "padding": null,
            "right": null,
            "top": null,
            "visibility": null,
            "width": null
          }
        },
        "10d2aef76a3b4aed8454b424bc4fc267": {
          "model_module": "@jupyter-widgets/controls",
          "model_name": "DescriptionStyleModel",
          "model_module_version": "1.5.0",
          "state": {
            "_model_module": "@jupyter-widgets/controls",
            "_model_module_version": "1.5.0",
            "_model_name": "DescriptionStyleModel",
            "_view_count": null,
            "_view_module": "@jupyter-widgets/base",
            "_view_module_version": "1.2.0",
            "_view_name": "StyleView",
            "description_width": ""
          }
        }
      }
    }
  },
  "nbformat": 4,
  "nbformat_minor": 0
}