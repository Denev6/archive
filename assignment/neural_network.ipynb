{
 "cells": [
  {
   "cell_type": "markdown",
   "metadata": {},
   "source": [
    "## 딥러닝 구현 과제  \n",
    "\n",
    "- 교안의 코드에서 1개의 노드를 추가하였습니다.\n",
    "- 외부 데이터셋을 활용해 예측 문제를 해결하였습니다. \n",
    "\n",
    "Dataset: Oranges vs. Grapefruit  \n",
    "Source: [Kaggle](https://www.kaggle.com/datasets/joshmcadams/oranges-vs-grapefruit)"
   ]
  },
  {
   "cell_type": "markdown",
   "metadata": {},
   "source": [
    "### 데이터셋"
   ]
  },
  {
   "cell_type": "code",
   "execution_count": 1,
   "metadata": {},
   "outputs": [],
   "source": [
    "import numpy as np\n",
    "import pandas as pd\n",
    "\n",
    "df = pd.read_csv(\"citrus.csv\")\n",
    "# 학습 시간 단축을 위해 30개만 활용\n",
    "df_orange = df[df[\"name\"] == \"orange\"][:15]\n",
    "df_grape = df[df[\"name\"] == \"grapefruit\"][:15]\n",
    "df = pd.concat((df_orange, df_grape))\n",
    "\n",
    "target = np.ones(30)\n",
    "target[15:] = -1\n",
    "df[\"target\"] = target\n",
    "\n",
    "# df.corr()"
   ]
  },
  {
   "cell_type": "code",
   "execution_count": 2,
   "metadata": {},
   "outputs": [
    {
     "data": {
      "image/png": "[encoded data removed]",
      "text/plain": [
       "<Figure size 432x288 with 1 Axes>"
      ]
     },
     "metadata": {
      "needs_background": "light"
     },
     "output_type": "display_data"
    }
   ],
   "source": [
    "import matplotlib.pyplot as plt\n",
    "\n",
    "data = df[[\"diameter\", \"blue\"]].to_numpy()\n",
    "labels = target\n",
    "\n",
    "plt.scatter(data[:15, 0], data[:15, 1], color=\"r\", label=\"+1: Orange\")\n",
    "plt.scatter(data[15:, 0], data[15:, 1], color=\"b\", label=\"-1: Grapefruit\")\n",
    "plt.xlabel(\"diameter\")\n",
    "plt.ylabel(\"blue\")\n",
    "plt.legend()\n",
    "plt.show()"
   ]
  },
  {
   "cell_type": "markdown",
   "metadata": {},
   "source": [
    "### 가중치 초기화 및 업데이트"
   ]
  },
  {
   "cell_type": "code",
   "execution_count": 3,
   "metadata": {},
   "outputs": [],
   "source": [
    "np.random.seed(0)\n",
    "\n",
    "w0, w1, w2, a, b, c, d, e, f, g, h, i, j \\\n",
    "    = np.random.uniform(-1, 1, 13)\n",
    "\n",
    "ETA = 0.0001\n",
    "ITER = 100000\n",
    "\n",
    "def sigmoid(x):\n",
    "    return 1 / (1 + np.exp(-x))"
   ]
  },
  {
   "cell_type": "code",
   "execution_count": 4,
   "metadata": {},
   "outputs": [
    {
     "name": "stdout",
     "output_type": "stream",
     "text": [
      "w2:0.31, w1:-0.15, w0:-0.40, a:-0.45, b:-0.12, c:4.51, d:-0.56, e:1.14, f:1.11, g:-2.38, h:3.86, i:-0.70\n"
     ]
    }
   ],
   "source": [
    "for _ in range(ITER):\n",
    "    dw2 = dw1 = dw0 = da = db = dc = dd = de = df = dg = dh = di = dj = 0\n",
    "    for idx in range(len(data)):\n",
    "\n",
    "        x = data[idx][0]\n",
    "        y = data[idx][1]\n",
    "\n",
    "        z0 = w2 * x + w1 * y + w0\n",
    "        W = sigmoid(z0)\n",
    "        z1 = a * x + b * y + c\n",
    "        X = sigmoid(z1)\n",
    "        z2 = d * x + e * y + f\n",
    "        Y = sigmoid(z2)\n",
    "\n",
    "        z = g * W + h * X + i * Y + j\n",
    "        Z = labels[idx]\n",
    "        \n",
    "        dz = 2 * (z - Z)\n",
    "\n",
    "        dz0 = dz * g * sigmoid(z0) * (1 - sigmoid(z0))\n",
    "        dw2 += dz0 * x\n",
    "        dw1 += dz0 * y\n",
    "        dw0 += dz0\n",
    "\n",
    "        dz1 = dz * h * sigmoid(z1) * (1 - sigmoid(z1))\n",
    "        da += dz1 * x\n",
    "        db += dz1 * y\n",
    "        dc += dz1\n",
    "\n",
    "        dz2 = dz * i * sigmoid(z2) * (1 - sigmoid(z2))\n",
    "        dd += dz2 * x\n",
    "        de += dz2 * y\n",
    "        df += dz2\n",
    "\n",
    "        dg += dz * W\n",
    "        dh += dz * X\n",
    "        di += dz * Y\n",
    "        dj += dz\n",
    "\n",
    "    w2 -= ETA * dw2\n",
    "    w1 -= ETA * dw1\n",
    "    w0 -= ETA * dw0\n",
    "    a -= ETA * da\n",
    "    b -= ETA * db\n",
    "    c -= ETA * dc\n",
    "    d -= ETA * dd\n",
    "    e -= ETA * de\n",
    "    f -= ETA * df\n",
    "    g -= ETA * dg\n",
    "    h -= ETA * dh\n",
    "    i -= ETA * di\n",
    "    j -= ETA * dj\n",
    "\n",
    "print(\n",
    "    f\"w2:{w2:.2f}, w1:{w1:.2f}, w0:{w0:.2f}, a:{a:.2f}, b:{b:.2f}, c:{c:.2f}, d:{d:.2f}, e:{e:.2f}, f:{f:.2f}, g:{g:.2f}, h:{h:.2f}, i:{i:.2f}\"\n",
    ")"
   ]
  },
  {
   "cell_type": "markdown",
   "metadata": {},
   "source": [
    "### 예측값 확인"
   ]
  },
  {
   "cell_type": "code",
   "execution_count": 5,
   "metadata": {},
   "outputs": [],
   "source": [
    "predicted = np.zeros(len(data))\n",
    "\n",
    "for idx in range(len(data)):\n",
    "    \n",
    "    x = data[idx][0]\n",
    "    y = data[idx][1]\n",
    "\n",
    "    z0 = w2 * x + w1 * y + w0\n",
    "    W = sigmoid(z0)\n",
    "    z1 = a * x + b * y + c\n",
    "    X = sigmoid(z1)\n",
    "    z2 = d * x + e * y + f\n",
    "    Y = sigmoid(z2)\n",
    "    \n",
    "    z = g * W + h * X + i * Y + j\n",
    "\n",
    "    predicted[idx] += z\n",
    "\n",
    "# print(predicted)"
   ]
  },
  {
   "cell_type": "markdown",
   "metadata": {},
   "source": [
    "### 예측 오차 확인\n",
    "\n",
    "오차 = (기대값 - 예측값)**2"
   ]
  },
  {
   "cell_type": "code",
   "execution_count": 6,
   "metadata": {},
   "outputs": [
    {
     "data": {
      "image/png": "[encoded data removed]",
      "text/plain": [
       "<Figure size 432x288 with 1 Axes>"
      ]
     },
     "metadata": {
      "needs_background": "light"
     },
     "output_type": "display_data"
    }
   ],
   "source": [
    "squared_error = np.square(labels - predicted)\n",
    "\n",
    "plt.hist(squared_error)\n",
    "plt.xlabel(\"Squared Error: (expected - predicted)**2\")\n",
    "plt.show()"
   ]
  }
 ],
 "metadata": {
  "interpreter": {
   "hash": "3d80a760c30ad4c8b22a1b4354e7ee5e36f5ba59b8ddf7d012248d293ade03a7"
  },
  "kernelspec": {
   "display_name": "Python 3.8.11 ('dataenv')",
   "language": "python",
   "name": "python3"
  },
  "language_info": {
   "codemirror_mode": {
    "name": "ipython",
    "version": 3
   },
   "file_extension": ".py",
   "mimetype": "text/x-python",
   "name": "python",
   "nbconvert_exporter": "python",
   "pygments_lexer": "ipython3",
   "version": "3.8.11"
  },
  "orig_nbformat": 4
 },
 "nbformat": 4,
 "nbformat_minor": 2
}
